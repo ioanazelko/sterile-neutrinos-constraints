{
 "cells": [
  {
   "cell_type": "code",
   "execution_count": 2,
   "metadata": {},
   "outputs": [],
   "source": [
    "from __future__ import division,print_function\n",
    "\n",
    "import os\n",
    "import sys\n",
    "\n",
    "from configparser import ConfigParser                  ### For parsing the configuration file\n",
    "import h5py\n",
    "import healpy as hp\n",
    "import pandas as pd\n",
    "import matplotlib as mpl             ### For plotting options\n",
    "import matplotlib.pyplot as plt\n",
    "import numpy as np\n",
    "import pprint\n",
    "import time\n",
    "import pickle\n",
    "from scipy.interpolate import interp1d\n",
    "\n",
    "galacticus_folder=os.environ[\"GALACTICUS_EXEC_PATH\"]\n",
    "DARK_MATTER_DATA_LOCATION=os.environ[\"DARK_MATTER_DATA_LOCATION\"]\n",
    "DARK_MATTER_PAPER_LOCATION=os.environ[\"DARK_MATTER_PAPER_LOCATION\"]\n",
    "DARK_MATTER_CODE_LOCATION = os.environ[\"DARK_MATTER_CODE_LOCATION\"]\n",
    "sys.path.insert(0, DARK_MATTER_CODE_LOCATION)\n",
    "\n",
    "\n",
    "import distribution_functions as dist\n",
    "import model_utils\n",
    "import sterile_neutrinos as sn\n",
    "import plot_utils\n",
    "import strong_lensing_data_processing as sl\n",
    "import thermal_relic as th\n",
    "import transfer_functions\n",
    "\n"
   ]
  },
  {
   "cell_type": "markdown",
   "metadata": {},
   "source": [
    "## Parsing the posterior from Gilman et al. 2020\n",
    "https://arxiv.org/pdf/1908.06983.pdf"
   ]
  },
  {
   "cell_type": "code",
   "execution_count": 3,
   "metadata": {},
   "outputs": [
    {
     "ename": "FileNotFoundError",
     "evalue": "[Errno 2] No such file or directory: '/home/izelko/Dropbox/research/research_projects/dark_matter_strong_lensing/sterile-neutrino-constraints/strong_lensing_data/gilman2020_likelihood_full'",
     "output_type": "error",
     "traceback": [
      "\u001b[0;31m---------------------------------------------------------------------------\u001b[0m",
      "\u001b[0;31mFileNotFoundError\u001b[0m                         Traceback (most recent call last)",
      "\u001b[0;32m/tmp/ipykernel_30225/1521359140.py\u001b[0m in \u001b[0;36m<module>\u001b[0;34m\u001b[0m\n\u001b[1;32m      1\u001b[0m \u001b[0;31m### Load the likelihood, which is provided as a 2D python function that has been pickled\u001b[0m\u001b[0;34m\u001b[0m\u001b[0;34m\u001b[0m\u001b[0;34m\u001b[0m\u001b[0m\n\u001b[0;32m----> 2\u001b[0;31m \u001b[0mf\u001b[0m \u001b[0;34m=\u001b[0m \u001b[0msl\u001b[0m\u001b[0;34m.\u001b[0m\u001b[0mload_posterior\u001b[0m\u001b[0;34m(\u001b[0m\u001b[0mpaper\u001b[0m \u001b[0;34m=\u001b[0m \u001b[0;34m\"Gilman2020\"\u001b[0m\u001b[0;34m)\u001b[0m\u001b[0;34m\u001b[0m\u001b[0;34m\u001b[0m\u001b[0m\n\u001b[0m\u001b[1;32m      3\u001b[0m \u001b[0;31m### Marginalize the likelihood to obtain the posterior distribution for log10(mhm)\u001b[0m\u001b[0;34m\u001b[0m\u001b[0;34m\u001b[0m\u001b[0;34m\u001b[0m\u001b[0m\n\u001b[1;32m      4\u001b[0m \u001b[0mlog10_m_hm\u001b[0m\u001b[0;34m,\u001b[0m \u001b[0mp_log10_mhm\u001b[0m \u001b[0;34m=\u001b[0m \u001b[0msl\u001b[0m\u001b[0;34m.\u001b[0m \u001b[0mmarginalizing_over_sigma\u001b[0m\u001b[0;34m(\u001b[0m\u001b[0mf\u001b[0m\u001b[0;34m,\u001b[0m \u001b[0msamples\u001b[0m\u001b[0;34m=\u001b[0m\u001b[0;36m3000\u001b[0m\u001b[0;34m)\u001b[0m\u001b[0;34m\u001b[0m\u001b[0;34m\u001b[0m\u001b[0m\n\u001b[1;32m      5\u001b[0m \u001b[0msl\u001b[0m\u001b[0;34m.\u001b[0m\u001b[0mplot_m_hm_posterior\u001b[0m\u001b[0;34m(\u001b[0m\u001b[0mlog10_m_hm\u001b[0m\u001b[0;34m,\u001b[0m\u001b[0mp_log10_mhm\u001b[0m\u001b[0;34m)\u001b[0m\u001b[0;34m\u001b[0m\u001b[0;34m\u001b[0m\u001b[0m\n",
      "\u001b[0;32m~/Dropbox/research/research_projects/dark_matter_strong_lensing/sterile-neutrinos-constraints/strong_lensing_data_processing.py\u001b[0m in \u001b[0;36mload_posterior\u001b[0;34m(paper)\u001b[0m\n\u001b[1;32m     33\u001b[0m     \u001b[0;32melse\u001b[0m\u001b[0;34m:\u001b[0m\u001b[0;34m\u001b[0m\u001b[0;34m\u001b[0m\u001b[0m\n\u001b[1;32m     34\u001b[0m         \u001b[0;32mraise\u001b[0m \u001b[0mValueError\u001b[0m\u001b[0;34m(\u001b[0m\u001b[0;34m\"specify the origina of the strong lensing data\"\u001b[0m\u001b[0;34m)\u001b[0m\u001b[0;34m\u001b[0m\u001b[0;34m\u001b[0m\u001b[0m\n\u001b[0;32m---> 35\u001b[0;31m     \u001b[0;32mwith\u001b[0m \u001b[0;34m(\u001b[0m\u001b[0mopen\u001b[0m\u001b[0;34m(\u001b[0m\u001b[0mfilename\u001b[0m\u001b[0;34m,\u001b[0m \u001b[0;34m\"rb\"\u001b[0m\u001b[0;34m)\u001b[0m\u001b[0;34m)\u001b[0m \u001b[0;32mas\u001b[0m \u001b[0mopenfile\u001b[0m\u001b[0;34m:\u001b[0m\u001b[0;34m\u001b[0m\u001b[0;34m\u001b[0m\u001b[0m\n\u001b[0m\u001b[1;32m     36\u001b[0m         \u001b[0;32mwhile\u001b[0m \u001b[0;32mTrue\u001b[0m\u001b[0;34m:\u001b[0m\u001b[0;34m\u001b[0m\u001b[0;34m\u001b[0m\u001b[0m\n\u001b[1;32m     37\u001b[0m             \u001b[0;32mtry\u001b[0m\u001b[0;34m:\u001b[0m\u001b[0;34m\u001b[0m\u001b[0;34m\u001b[0m\u001b[0m\n",
      "\u001b[0;31mFileNotFoundError\u001b[0m: [Errno 2] No such file or directory: '/home/izelko/Dropbox/research/research_projects/dark_matter_strong_lensing/sterile-neutrino-constraints/strong_lensing_data/gilman2020_likelihood_full'"
     ]
    }
   ],
   "source": [
    "### Load the likelihood, which is provided as a 2D python function that has been pickled\n",
    "f = sl.load_posterior(paper = \"Gilman2020\")\n",
    "### Marginalize the likelihood to obtain the posterior distribution for log10(mhm)\n",
    "log10_m_hm, p_log10_mhm = sl. marginalizing_over_sigma(f, samples=3000)\n",
    "sl.plot_m_hm_posterior(log10_m_hm,p_log10_mhm)\n",
    "### Transform the p(log10(mhm)) to p(mhm)\n",
    "m_hm, p_m_hm = sl.mhm_log_to_linear(log10_m_hm,p_log10_mhm)\n"
   ]
  },
  {
   "cell_type": "markdown",
   "metadata": {},
   "source": [
    "#### Test: Check that the 95 limit of p(log10mhm) and p(mhm) give the same number "
   ]
  },
  {
   "cell_type": "code",
   "execution_count": null,
   "metadata": {},
   "outputs": [],
   "source": [
    " \n",
    "lower_95_log10mhm, upper_95_log10mhm, p = dist.norm_and_limit(log10_m_hm, p_log10_mhm )"
   ]
  },
  {
   "cell_type": "code",
   "execution_count": 4,
   "metadata": {},
   "outputs": [
    {
     "ename": "NameError",
     "evalue": "name 'm_hm' is not defined",
     "output_type": "error",
     "traceback": [
      "\u001b[0;31m---------------------------------------------------------------------------\u001b[0m",
      "\u001b[0;31mNameError\u001b[0m                                 Traceback (most recent call last)",
      "\u001b[0;32m/tmp/ipykernel_30225/344641909.py\u001b[0m in \u001b[0;36m<module>\u001b[0;34m\u001b[0m\n\u001b[0;32m----> 1\u001b[0;31m \u001b[0mlower_95_mhm\u001b[0m\u001b[0;34m,\u001b[0m \u001b[0mupper_95_mhm\u001b[0m\u001b[0;34m,\u001b[0m \u001b[0mp\u001b[0m \u001b[0;34m=\u001b[0m \u001b[0mdist\u001b[0m\u001b[0;34m.\u001b[0m\u001b[0mnorm_and_limit\u001b[0m\u001b[0;34m(\u001b[0m\u001b[0mm_hm\u001b[0m\u001b[0;34m,\u001b[0m \u001b[0mp_m_hm\u001b[0m  \u001b[0;34m)\u001b[0m\u001b[0;34m\u001b[0m\u001b[0;34m\u001b[0m\u001b[0m\n\u001b[0m",
      "\u001b[0;31mNameError\u001b[0m: name 'm_hm' is not defined"
     ]
    }
   ],
   "source": [
    "lower_95_mhm, upper_95_mhm, p = dist.norm_and_limit(m_hm, p_m_hm  )"
   ]
  },
  {
   "cell_type": "code",
   "execution_count": 5,
   "metadata": {},
   "outputs": [
    {
     "ename": "NameError",
     "evalue": "name 'upper_95_mhm' is not defined",
     "output_type": "error",
     "traceback": [
      "\u001b[0;31m---------------------------------------------------------------------------\u001b[0m",
      "\u001b[0;31mNameError\u001b[0m                                 Traceback (most recent call last)",
      "\u001b[0;32m/tmp/ipykernel_30225/1153002875.py\u001b[0m in \u001b[0;36m<module>\u001b[0;34m\u001b[0m\n\u001b[1;32m      1\u001b[0m \u001b[0;31m### taking the log of the lower 95% limit of m_hm\u001b[0m\u001b[0;34m\u001b[0m\u001b[0;34m\u001b[0m\u001b[0;34m\u001b[0m\u001b[0m\n\u001b[0;32m----> 2\u001b[0;31m \u001b[0mprint\u001b[0m\u001b[0;34m(\u001b[0m\u001b[0mnp\u001b[0m\u001b[0;34m.\u001b[0m\u001b[0mlog10\u001b[0m\u001b[0;34m(\u001b[0m\u001b[0mupper_95_mhm\u001b[0m\u001b[0;34m)\u001b[0m\u001b[0;34m)\u001b[0m\u001b[0;34m\u001b[0m\u001b[0;34m\u001b[0m\u001b[0m\n\u001b[0m",
      "\u001b[0;31mNameError\u001b[0m: name 'upper_95_mhm' is not defined"
     ]
    }
   ],
   "source": [
    "### taking the log of the lower 95% limit of m_hm\n",
    "print(np.log10(upper_95_mhm))"
   ]
  },
  {
   "cell_type": "code",
   "execution_count": 6,
   "metadata": {},
   "outputs": [],
   "source": [
    "## yep, they are the same."
   ]
  },
  {
   "cell_type": "markdown",
   "metadata": {},
   "source": [
    "#### Note: the value of the upper 95% limit for m_hm, 8.08, is slightly different from  the 7.8 in Gilman2020, because there they resample the likelihood and bin it in 20 bins. We chose to no resample and use the directly the kernel smoothed likelihood that was calculated from the multiplied likelihoods for each quasar"
   ]
  },
  {
   "cell_type": "markdown",
   "metadata": {},
   "source": [
    "## Calculating Thermal Relic WDM"
   ]
  },
  {
   "cell_type": "code",
   "execution_count": 7,
   "metadata": {},
   "outputs": [
    {
     "name": "stdout",
     "output_type": "stream",
     "text": [
      "Thermal relic WDM, for case  Case I   include_baryons\n",
      "Upper 95% upper limit on m is 39.79896227240268\n",
      "Lower 95% lower limit on m is 4.641765367040939\n",
      "Thermal relic WDM, for case  Case II   no_baryons\n",
      "Upper 95% upper limit on m is 37.106684538073026\n",
      "Lower 95% lower limit on m is 4.327764176252796\n"
     ]
    },
    {
     "data": {
      "image/png": "[encoded data removed]",
      "text/plain": [
       "<Figure size 259.2x216 with 1 Axes>"
      ]
     },
     "metadata": {
      "needs_background": "light"
     },
     "output_type": "display_data"
    }
   ],
   "source": [
    "th.plot_thWDM(m_hm,p_m_hm)"
   ]
  },
  {
   "cell_type": "code",
   "execution_count": null,
   "metadata": {},
   "outputs": [],
   "source": []
  },
  {
   "cell_type": "markdown",
   "metadata": {},
   "source": [
    "## Sterile Neutrino PK and KTY cases"
   ]
  },
  {
   "cell_type": "code",
   "execution_count": null,
   "metadata": {},
   "outputs": [],
   "source": [
    "#### Kev 2022 February Transfer functions\n",
    "t1 = transfer_functions.TransferFunctions(cosmo_constants_type=\"Planck2018\", transfer_function_type = \"PK\",th_WDM_model_type=\"viel\")\n",
    "t1.fit_sn_with_WDM(paper_plot=False)\n",
    "poly_dict_thWDM_to_sn, poly_dict_sn_to_thWDM =t1.fit_polynomials()\n",
    "\n",
    "#### KTY Transfer functions\n",
    "t2 = transfer_functions.TransferFunctions(cosmo_constants_type=\"Planck2018\", transfer_function_type = \"KTY\",th_WDM_model_type=\"viel\")\n",
    "t2.fit_sn_with_WDM(paper_plot=False)\n",
    "\n",
    "\n",
    "#### Make the fit tables\n",
    "transfer_functions.make_table(t1,t2)\n",
    "### Make the plots of m_sn vs m_thWDM\n",
    "transfer_functions.plot_sn_vs_wdm_overlay(t1, t2, paper_plot=True)"
   ]
  },
  {
   "cell_type": "code",
   "execution_count": null,
   "metadata": {},
   "outputs": [],
   "source": [
    "# poly_dict_thWDM_to_sn1, poly_dict_sn_to_thWDM1 =t.fit_polynomials()\n",
    "\n",
    "# run_sn_all_cases(m_hm,p_m_hm,poly_dict_thWDM_to_sn1)\n",
    "sn.plot_sn_posteriors(m_hm,p_m_hm,t1,t2)"
   ]
  },
  {
   "cell_type": "code",
   "execution_count": null,
   "metadata": {},
   "outputs": [],
   "source": [
    "color_dict =plot_utils.colorblind_color_dict_15()\n",
    "color_dict"
   ]
  },
  {
   "cell_type": "markdown",
   "metadata": {},
   "source": [
    "### Dodelson Wilson"
   ]
  },
  {
   "cell_type": "code",
   "execution_count": null,
   "metadata": {},
   "outputs": [],
   "source": [
    "sn.calculate_DW(m_hm,p_m_hm)"
   ]
  },
  {
   "cell_type": "code",
   "execution_count": null,
   "metadata": {},
   "outputs": [],
   "source": [
    "\n",
    "\n",
    "sn.plot_all_sn(m_hm,p_m_hm,t1,t2)"
   ]
  },
  {
   "cell_type": "code",
   "execution_count": null,
   "metadata": {},
   "outputs": [],
   "source": []
  },
  {
   "cell_type": "code",
   "execution_count": null,
   "metadata": {},
   "outputs": [],
   "source": [
    "sn.plot_all_sn_panels(m_hm,p_m_hm,t1,t2)"
   ]
  },
  {
   "cell_type": "code",
   "execution_count": null,
   "metadata": {},
   "outputs": [],
   "source": [
    "##from Vegetti et al 2018 https://ui.adsabs.harvard.edu/abs/2018MNRAS.481.3661V\n",
    "#95% upper and lower limits for log(M_hm) M_sun: 9.16, 11.91 \n",
    "#68%  upper and lower limits for log(M_hm) M_sun: 6.43, 12.01"
   ]
  },
  {
   "cell_type": "code",
   "execution_count": null,
   "metadata": {},
   "outputs": [],
   "source": []
  },
  {
   "cell_type": "markdown",
   "metadata": {},
   "source": [
    "## Lyman-alpha limit"
   ]
  },
  {
   "cell_type": "code",
   "execution_count": null,
   "metadata": {},
   "outputs": [],
   "source": [
    "#These are limits based on the lyman-alpha paper: \n",
    "\n",
    "### 3.3 keV constraint from Viel et al. (2013), 5.3 keV constraint from Iršič et al. (2017)\n",
    "m_thWDM_lalpha_viel = 3.3 #keV\n",
    "m_thWDM_lalpha_irsic = 5.3 #keV\n"
   ]
  },
  {
   "cell_type": "code",
   "execution_count": null,
   "metadata": {},
   "outputs": [],
   "source": [
    "### Limits on PK and KTY\n",
    "def lyman_alpha_PK_and_KTY(degree=2):\n",
    "    poly_dict_thWDM_to_snPK, poly_dict_sn_to_thWDM1 =t1.fit_polynomials()\n",
    "    poly_dict_thWDM_to_snKTY, poly_dict_sn_to_thWDM1 =t2.fit_polynomials()\n",
    "    m_snPK_v = sn.m_sn_from_m_thWDM(poly_dict_thWDM_to_snPK, np.array([m_thWDM_lalpha_viel]), degree)\n",
    "    m_snPK_i = sn.m_sn_from_m_thWDM(poly_dict_thWDM_to_snPK, np.array([m_thWDM_lalpha_irsic]), degree)\n",
    "    print( \"PK SnDW Ly alpha: Viel\", m_snPK_v,\"keV, Irsic\", m_snPK_i, \"keV\")\n",
    "    m_snKTY_v = sn.m_sn_from_m_thWDM(poly_dict_thWDM_to_snKTY, np.array([m_thWDM_lalpha_viel]), degree)\n",
    "    m_snKTY_i = sn.m_sn_from_m_thWDM(poly_dict_thWDM_to_snKTY, np.array([m_thWDM_lalpha_irsic]), degree)\n",
    "    print( \"KTY SnDW Ly alpha: Viel\", m_snKTY_v,\"keV, Irsic\", m_snKTY_i, \"keV\")\n",
    "    \n",
    "        \n",
    "lyman_alpha_PK_and_KTY(degree=2)"
   ]
  },
  {
   "cell_type": "code",
   "execution_count": null,
   "metadata": {},
   "outputs": [],
   "source": []
  },
  {
   "cell_type": "code",
   "execution_count": null,
   "metadata": {},
   "outputs": [],
   "source": [
    "### Limits on DW\n",
    "\n",
    "def get_Omega_DM():\n",
    "    H_0, Omega_Baryon, Omega_Matter, Omega_Lambda, Omega_Neutrinos, T_cmb, h = model_utils.cosmo_param_Planck_2018()\n",
    "    Omega_DM = Omega_Matter-Omega_Baryon-Omega_Neutrinos\n",
    "    return Omega_DM\n",
    "def lyman_alpa_DW():\n",
    "    Omega_DM = get_Omega_DM()\n",
    "    msnDW_v = sn.m_thWDM_to_msnDW(m_thWDM_lalpha_viel, Omega_DM)\n",
    "    msnDW_i = sn.m_thWDM_to_msnDW(m_thWDM_lalpha_irsic, Omega_DM)\n",
    "    print(\"SnDW Ly alpha: Viel\", msnDW_v,\"keV, Irsic\", msnDW_i, \"keV\")\n",
    "    return msnDW_v, msnDW_i\n",
    "lyman_alpa_DW()"
   ]
  },
  {
   "cell_type": "code",
   "execution_count": null,
   "metadata": {},
   "outputs": [],
   "source": [
    "### Limits on nuMSM\n",
    "\n",
    "def hm_from_thWDM():\n",
    "    \n",
    "    case_list = [\"include_baryons\",\"no_baryons\" ]\n",
    "    label_list= [\"Case I\",\"Case II\"]\n",
    "    m_sn_list = []\n",
    "    p_sn_list = []\n",
    "    sn_lower_limit_list = []\n",
    "    \n",
    "    for case_index in range(len(case_list)):\n",
    "        case  = case_list[case_index]\n",
    "        print(\"Calculating case\", case)\n",
    "\n",
    "        label=label_list[case_index]\n",
    "        m_hmv = th.m_thWDM_to_m_hm(m_thWDM_lalpha_viel,case)\n",
    "        m_hmi = th.m_thWDM_to_m_hm(m_thWDM_lalpha_irsic,case)\n",
    "        print(np.log10(m_hmv))\n",
    "        print(np.log10(m_hmi))\n"
   ]
  },
  {
   "cell_type": "code",
   "execution_count": null,
   "metadata": {},
   "outputs": [],
   "source": [
    "hm_from_thWDM()"
   ]
  },
  {
   "cell_type": "markdown",
   "metadata": {},
   "source": [
    "## Constraints using Milky Way satellite analysis"
   ]
  },
  {
   "cell_type": "code",
   "execution_count": null,
   "metadata": {},
   "outputs": [],
   "source": []
  },
  {
   "cell_type": "code",
   "execution_count": null,
   "metadata": {},
   "outputs": [],
   "source": [
    "\n",
    "def galaxy_constraints(degree=2):\n",
    "    m_hm_G = 10**7.0\n",
    "    \n",
    "    poly_dict_thWDM_to_snPK, poly_dict_sn_to_thWDM1 =t1.fit_polynomials()\n",
    "    poly_dict_thWDM_to_snKTY, poly_dict_sn_to_thWDM1 =t2.fit_polynomials()\n",
    "    \n",
    "    Omega_DM = get_Omega_DM()\n",
    "\n",
    "    case_list = [\"include_baryons\",\"no_baryons\" ]\n",
    "    label_list= [\"Case I\",\"Case II\"]\n",
    "    for i in range(2):\n",
    "        case= case_list[i]\n",
    "        m_thWDM = th.m_hm_to_m_thWDM(m_hm_G,case)\n",
    "        print(\"Case \",case )\n",
    "        print(\"thWDM\", m_thWDM)\n",
    "        m_snPK = sn.m_sn_from_m_thWDM(poly_dict_thWDM_to_snPK, np.array([m_thWDM]), degree)\n",
    "        print( \"PK SnDW galaxy: \", m_snPK, \" keV\")\n",
    "        m_snKTY = sn.m_sn_from_m_thWDM(poly_dict_thWDM_to_snKTY, np.array([m_thWDM]), degree)\n",
    "        print( \"KTY SnDW galaxy:\", m_snKTY,\" keV\")\n",
    "        m_snDW = sn.m_thWDM_to_msnDW(m_thWDM, Omega_DM)\n",
    "        print( \"DW SnDW galaxy:\", m_snDW,\" keV\")\n",
    "   \n"
   ]
  },
  {
   "cell_type": "code",
   "execution_count": null,
   "metadata": {},
   "outputs": [],
   "source": [
    "galaxy_constraints()"
   ]
  },
  {
   "cell_type": "code",
   "execution_count": null,
   "metadata": {},
   "outputs": [],
   "source": []
  }
 ],
 "metadata": {
  "kernelspec": {
   "display_name": "Python 3 (ipykernel)",
   "language": "python",
   "name": "python3"
  },
  "language_info": {
   "codemirror_mode": {
    "name": "ipython",
    "version": 3
   },
   "file_extension": ".py",
   "mimetype": "text/x-python",
   "name": "python",
   "nbconvert_exporter": "python",
   "pygments_lexer": "ipython3",
   "version": "3.8.5"
  }
 },
 "nbformat": 4,
 "nbformat_minor": 4
}
